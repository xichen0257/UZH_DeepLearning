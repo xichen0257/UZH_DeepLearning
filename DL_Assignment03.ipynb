{
  "cells": [
    {
      "cell_type": "markdown",
      "metadata": {
        "id": "JDFZpI3BeT_r"
      },
      "source": [
        "# Assignment 3: Universal Function Approximator\n",
        "\n",
        "\n",
        "The goal of this exercise is to train a two-layer fully-connected network to perform one-dimensional non-linear regression via gradient descent. To show the flexibility of the approach, three different functions will be approximated. First, the network and its gradient need to be implemented. Second, target data for three different functions will be generated. Finally, the training procedure will be applied to the data, and the resulting approximated function will be plotted together with the data samples.\n",
        "\n",
        "## Network Implementation\n",
        "\n",
        "A two-layer network is defined by parameters $\\Theta=(\\mathbf W^{(1)},\\vec w^{(2)})$ that are split into $\\mathbf W^{(1)}\\in\\mathbb R^{K\\times {(D+1)}}$ for the first layer and $\\vec w^{(2)}\\in\\mathbb R^{K+1}$ for the second layer. In our case, since we have only a single input, we have $D=1$.\n",
        "For a given input $\\vec x = (1, x)^T$, the network is implemented in three steps:\n",
        "\n",
        "1. Compute the first layer output, aka, the activation: $\\vec a_- = \\mathbf W^{(1)} \\vec x$\n",
        "2. Apply the activation function for each element of $\\vec a_- : \\vec h_- = g(\\vec a_-)$ and prepend the bias neuron $h_0=1$ to arrive at $\\vec h$.\n",
        "3. Compute the output of the network: $y = \\vec w^{(2)}\\ ^T\\vec h$.\n",
        "\n",
        "### Task 1  \n",
        "Implement a function that returns the network output for a given input $\\vec x$ and parameters $\\Theta=(\\mathbf W^{(1)}, \\vec w^{(2)})$. Remember that the input of the function $\\vec x = (1, x)^T$. Also remember to prepend $h_0=1$ in your implementation.\n",
        "\n",
        "We use sigmoid $(\\sigma)$ as the activation function:\n",
        "\n",
        "\\begin{equation*}\n",
        "    \\sigma(a) =  \\frac{\\mathrm{1} }{\\mathrm{1} + e^{-a} }\n",
        "\\end{equation*}\n",
        "\n",
        "Note:\n",
        "\n",
        "1. Use the `numpy` to implement the sigmoid function.\n",
        "2. Use `numpy.concatenate` or `numpy.insert` to prepend $h_0$.\n",
        "3. Make use of `numpy.dot` to compute matrix-vector and vector-vector products."
      ]
    },
    {
      "cell_type": "code",
      "execution_count": null,
      "metadata": {
        "id": "Q20scd0peT_s"
      },
      "outputs": [],
      "source": [
        "import numpy\n",
        "import math\n",
        "\n",
        "def logistic(x):\n",
        "  return 1 / (1 + numpy.exp(-x))\n",
        "\n",
        "def network(x, Theta):\n",
        "  W1, w2 = Theta\n",
        "  a_ = numpy.dot(W1, x)\n",
        "  h_ = logistic(a_)\n",
        "  h = numpy.insert(h_, 0, 1)\n",
        "  y = numpy.dot(w2, h)\n",
        "  return y, h"
      ]
    },
    {
      "cell_type": "markdown",
      "metadata": {
        "id": "HT7VEFo3eT_t"
      },
      "source": [
        "Test 1: Sanity Check\n",
        "----------------------------\n",
        "\n",
        "We select a specific number of hidden neurons and create the weights accordingly, using all zeros in the first layer and all ones in the second. The test case below assures that the function from Task 1 actually returns $11$ for those weights.\n",
        "\n",
        "Note: your function should pass the test below."
      ]
    },
    {
      "cell_type": "code",
      "execution_count": null,
      "metadata": {
        "colab": {
          "base_uri": "https://localhost:8080/"
        },
        "id": "0_EaM23GeT_t",
        "outputId": "f8aa5cd4-42ae-4ee0-d8f6-a639047f8f57"
      },
      "outputs": [
        {
          "name": "stdout",
          "output_type": "stream",
          "text": [
            "Test passed\n"
          ]
        }
      ],
      "source": [
        "K = 20\n",
        "D = 1\n",
        "W1 = numpy.zeros((K, D+1))\n",
        "w2 = numpy.ones(K+1)\n",
        "x = numpy.random.rand(D+1)\n",
        "\n",
        "y, _ = network(x, (W1, w2))\n",
        "assert abs(11 - y) < 1e-6\n",
        "print(\"Test passed\")"
      ]
    },
    {
      "cell_type": "markdown",
      "metadata": {
        "id": "GsuyKXDHeT_t"
      },
      "source": [
        "## Gradient Implementation\n",
        "\n",
        "In order to perform gradient descent, we need to define a loss function. As provided in the lecture, the $\\mathcal J^{L_2}$ loss function is defined over a dataset $X=\\{(\\vec x^{[n]}, t^{[n]})\\}$, that is defined as a list of tuples, as follows:\n",
        "\n",
        "$$\n",
        "   \\mathcal J^{L_2} = \\frac{1}{N}\\sum_{i=1}^N (y^{[n]}-t^{[n]})^2\n",
        "$$\n",
        "\n",
        "where $y^{[n]}$ is the output of the network from Task 1 when inputting $\\vec x^{[n]}$. Interestingly, however, we never explicitly need to compute the output of the loss function. It is only used to analytically compute the gradient as shown in the lecture.\n",
        "\n",
        "The gradient is composed of two items, one for each layer. Particularly, for a given dataset $X$, the gradient of loss $J^{L_2}$ is defined as:\n",
        "\n",
        "\\begin{align}\n",
        "  \\frac{\\partial \\mathcal J}{\\partial w_{kd}^{(1)}} &= \\frac{2}{N} \\sum\\limits_{n=1}^N (y^{[n]}-t^{[n]}) w_{k}^{(2)} (1-h_{k}^{[n]}) h_{k}^{[n]} x_{d}^{[n]}\\\\\n",
        "  \\frac{\\partial \\mathcal J}{\\partial w_{k}^{(2)}} &= \\frac{2}{N} \\sum\\limits_{n=1}^N (y^{[n]}-t^{[n]}) h_{k}^{[n]}\n",
        "\\end{align}\n",
        "\n",
        "### Task 2\n",
        "Implement a function that returns the gradient as defined in $(1)$ and $(2)$ for a given dataset $X$, and given weights $\\Theta=(\\mathbf W^{(1)},\\vec w^{(2)})$. Make sure that both parts of the gradient are computed.\n",
        "\n",
        "Hint:\n",
        "\n",
        "1. Make use of the the function implemented in Task 1 where appropriate\n",
        "\n",
        "Note:\n",
        "\n",
        "  1. This is a slow implementation. We will see how to speed this up in the next lecture.\n",
        "  2. You can make use of `numpy.zeros` to initialize the gradient.\n",
        "  3. The outer product can be computed via `numpy.outer`.\n",
        "  4. Remember that we used the $logistic$ activation function in our network."
      ]
    },
    {
      "cell_type": "code",
      "execution_count": null,
      "metadata": {
        "id": "215Zr120eT_u"
      },
      "outputs": [],
      "source": [
        "def gradient(X, Theta):\n",
        "  # split parameters for easier handling\n",
        "  W1, w2 = Theta\n",
        "\n",
        "  # define gradient with respect to both parameters\n",
        "  dW1 = numpy.zeros(W1.shape)\n",
        "  dw2 = numpy.zeros(w2.shape)\n",
        "\n",
        "  # number of data points\n",
        "  N = len(X)\n",
        "\n",
        "  # iterate over dataset\n",
        "  for x, t in X:\n",
        "    y, h = network(x, Theta)\n",
        "    error = y - t\n",
        "\n",
        "    # compute the gradient\n",
        "    dw2 += 2/N * error * h\n",
        "\n",
        "    # delta = numpy.dot(w2, error) * (1 - h) * h\n",
        "    delta = numpy.dot(w2*error, (1-h)*h)\n",
        "    dW1 += 2/N * numpy.outer(delta, x)\n",
        "\n",
        "\n",
        "  return dW1, dw2"
      ]
    },
    {
      "cell_type": "markdown",
      "metadata": {
        "id": "sCGKEwEeeT_u"
      },
      "source": [
        "## Gradient Descent\n",
        "\n",
        "The procedure of gradient descent is the repeated application of two steps.\n",
        "\n",
        "1. The gradient of loss $\\nabla_{\\Theta}\\mathcal J^{L_2}$ is computed based on the current value of the parameters $\\Theta=(\\mathbf W^{(1)},\\vec w^{(2)})$.\n",
        "2. The weights are updated by moving a small step $\\eta$ into the direction of the negative gradient:\n",
        "\n",
        "$$\n",
        "    \\Theta = \\Theta - \\eta \\nabla_{\\Theta}\\mathcal J\n",
        "$$\n",
        "\n",
        "As stopping criterion, we select the number of training epochs to be 10000.\n",
        "\n",
        "### Task 3\n",
        "Implement a function that performs gradient descent for a given dataset $X$, given initial parameters $\\Theta$ and a given learning rate $\\eta$ and returns the optimized parameters $\\Theta^*$."
      ]
    },
    {
      "cell_type": "code",
      "execution_count": null,
      "metadata": {
        "id": "JsBCxgwreT_u"
      },
      "outputs": [],
      "source": [
        "def gradient_descent(X, Theta, eta):\n",
        "  epochs = 10000\n",
        "  # perform iterative gradient descent\n",
        "  for epoch in range(epochs):\n",
        "    # compute the gradient\n",
        "    dW1, dw2 = gradient(X, Theta)\n",
        "\n",
        "    # update the parameters\n",
        "    W1, w2 = Theta\n",
        "    W1 -= eta * dW1\n",
        "    w2 -= eta * dw2\n",
        "\n",
        "    Theta = (W1, w2)\n",
        "\n",
        "  # return optimized parameters\n",
        "  return Theta"
      ]
    },
    {
      "cell_type": "markdown",
      "metadata": {
        "id": "T5zrD_aEeT_u"
      },
      "source": [
        "## Generate Datasets\n",
        "\n",
        "In total, we will test our gradient descent function with three different datasets. Particularly, we approximate:\n",
        "\n",
        "1. $X_1: t = \\sin(3x)$ for $x\\in[-1,1]$\n",
        "2. $X_2: t = e^{-4x^2}$ for $x\\in[-1,1]$\n",
        "3. $X_3: t = x^5 + 3x^4 - 6x^3 -12x^2 + 5x + 129$ for $x\\in[-4,2.5]$\n",
        "\n",
        "### Task 4\n",
        "\n",
        "Generate dataset $X_1$, for $N=60$ samples randomly drawn from range $x\\in[-1,1]$.\n",
        "Generate data $X_2$ for $N=50$ samples randomly drawn from range $x\\in[-1,1]$.\n",
        "Generate dataset $X_3$ for $N=200$ samples randomly drawn from range $x\\in[-4,2.5]$.\n",
        "Implement all three datasets as lists of tuples: $\\{(\\vec x^{[n]}, t^{[n]})\\mid 1\\leq n\\leq N\\}$.\n",
        "\n",
        "Note:\n",
        "\n",
        "  1. You can use `numpy.random.uniform` to create uniformly distributed samples for $x$.\n",
        "  2. Make sure that $\\vec x = (1, x)^T$ for each sample.\n",
        "  3. You can make use of `numpy.sin`, `numpy.exp` and `numpy.pow` to compute target values."
      ]
    },
    {
      "cell_type": "code",
      "execution_count": null,
      "metadata": {
        "id": "YZzW54YUeT_v"
      },
      "outputs": [],
      "source": [
        "# set the random seed\n",
        "numpy.random.seed(42)\n",
        "\n",
        "# generate dataset X1\n",
        "N1 = 60\n",
        "X1 = [(numpy.array([1, x]), numpy.sin(3*x)) for x in numpy.random.uniform(-1, 1, N1)]\n",
        "\n",
        "# generate dataset X2\n",
        "N2 = 50\n",
        "X2 = [(numpy.array([1, x]), numpy.exp(-4*x**2)) for x in numpy.random.uniform(-1, 1, N2)]\n",
        "\n",
        "# generate dataset X3\n",
        "N3 = 200\n",
        "X3 = [(numpy.array([1, x]), x**5 + 3*x**4 - 6*x**3 - 12*x**2 + 5*x +129) for x in numpy.random.uniform(-4, 2.5, N3)]\n"
      ]
    },
    {
      "cell_type": "markdown",
      "metadata": {
        "id": "hdczg_PJeT_v"
      },
      "source": [
        "### Test 2: Sanity Check\n",
        "\n",
        "The test case below assures that the elements of each generated dataset are tuples with two elements, that the first element ($\\vec x$) is a vector with two numbers, and that the second element ($t$) is a float."
      ]
    },
    {
      "cell_type": "code",
      "execution_count": null,
      "metadata": {
        "colab": {
          "base_uri": "https://localhost:8080/"
        },
        "id": "ihCkIA7meT_v",
        "outputId": "f7b8e86c-c101-4ee5-e149-64daa15b2a1b"
      },
      "outputs": [
        {
          "name": "stdout",
          "output_type": "stream",
          "text": [
            "Test passed!\n"
          ]
        }
      ],
      "source": [
        "assert all(\n",
        "    isinstance(x, (tuple,list)) and\n",
        "    len(x) == 2 and\n",
        "    isinstance(x[0], (tuple,list,numpy.ndarray)) and\n",
        "    len(x[0]) == 2 and\n",
        "    isinstance(x[1], float)\n",
        "    for X in (X1, X2, X3)\n",
        "    for x in X\n",
        ")\n",
        "\n",
        "print('Test passed!')"
      ]
    },
    {
      "cell_type": "markdown",
      "metadata": {
        "id": "N6UQG47ReT_v"
      },
      "source": [
        "## Function Approximation\n",
        "\n",
        "Finally, we want to make use of our gradient descent implementation to approximate our functions. In order to see our success, we want to plot the functions together with the data.\n",
        "\n",
        "### Task 5 (theoretical question)\n",
        "\n",
        "When looking at the example plots in the exercise slides (exemplary solutions for the plotting Task 8), how many hidden neurons $K$ do we need in order to approximate the functions? Is there any difference between the three target functions? **Please discuss it in the markdown cell below:**"
      ]
    },
    {
      "cell_type": "markdown",
      "metadata": {
        "id": "rQfAOsLueT_v"
      },
      "source": [
        "\n",
        "The number of hidden neurons 𝐾 we need to approximate the three functions depends on the complexity of the functions and the flexibility of the neural network architecture.  \n",
        "For X1, it is a periodic function with relatively smooth behavior, we might require a moderate number of neurons to capture the periodicity of the function.  \n",
        "For X2, it is an exponential function with rapid changes near the origin, we might need more neurons to capture the rapid decay of the function.   \n",
        "For X3, it is a polynomial function with multiple terms and complex behavior, we might need even more neurons to capture the complexity of the function."
      ]
    },
    {
      "cell_type": "code",
      "execution_count": null,
      "metadata": {
        "id": "7nnHtGyreT_v"
      },
      "outputs": [],
      "source": [
        "# Define the number of neurons for each target function based on your discussion\n",
        "K1 = 5\n",
        "K2 = 10\n",
        "K3 = 20"
      ]
    },
    {
      "cell_type": "markdown",
      "metadata": {
        "id": "DE5n365reT_v"
      },
      "source": [
        "### Task 6\n",
        "\n",
        "For each of the datasets, randomly initialize the parameters $\\Theta_1,\\Theta_2,\\Theta_3\\in[-1,1]$ according to the number of hidden neurons estimated in Task 5.\n",
        "\n",
        "Note:\n",
        "\n",
        "  1. You can use `numpy.random.uniform` to initialize the weights.\n",
        "  2. Make sure that the weight matrices are instantiated in the correct dimensions."
      ]
    },
    {
      "cell_type": "code",
      "execution_count": null,
      "metadata": {
        "id": "n9AwBc8meT_v"
      },
      "outputs": [],
      "source": [
        "Theta1 = (numpy.random.uniform(-1, 1, (K1, 2)), numpy.random.uniform(-1, 1, (K1+1,)))\n",
        "Theta2 = (numpy.random.uniform(-1, 1, (K2, 2)), numpy.random.uniform(-1, 1, (K2+1,)))\n",
        "Theta3 = (numpy.random.uniform(-1, 1, (K3, 2)), numpy.random.uniform(-1, 1, (K3+1,)))"
      ]
    },
    {
      "cell_type": "markdown",
      "metadata": {
        "id": "jYKMfK6KeT_w"
      },
      "source": [
        "### Task 7\n",
        "\n",
        "Call gradient descent function from Task 3 using the datasets $X_1, X_2, X_3$, the according created parameters $\\Theta_1,\\Theta_2,\\Theta_3$. Store the resulting optimized weights $\\Theta_1^*, \\Theta_2^*, \\Theta_3^*$ and the loss values.\n",
        "\n",
        "**Please discuss first the appropriate learning rate $\\eta$  for each of the three functions in the markdown cell below.** Based on your learning rates, you may need to optimize the learning rate $\\eta$ for these functions. Do you see any differences? What are the best learning rates that you can find?\n",
        "\n",
        "WARNING: Depending on the implementation, this might run for several minutes!"
      ]
    },
    {
      "cell_type": "markdown",
      "metadata": {
        "id": "prQw_piFbbzH"
      },
      "source": [
        "We do the optimization by decreasing $\\eta$ by 10 times each time."
      ]
    },
    {
      "cell_type": "code",
      "execution_count": null,
      "metadata": {
        "colab": {
          "base_uri": "https://localhost:8080/"
        },
        "id": "WWCm7kfDTfQk",
        "outputId": "b9d7f6b0-7180-468a-9915-848563b51e31"
      },
      "outputs": [
        {
          "name": "stdout",
          "output_type": "stream",
          "text": [
            "First Function:\n",
            "(5, 2) (6,)\n",
            "for eta  0.1 loss = 0.867703639056687\n",
            "(5, 2) (6,)\n",
            "for eta  0.01 loss = 0.8491554166297252\n",
            "(5, 2) (6,)\n",
            "for eta  0.001 loss = 0.847418276181355\n",
            "(5, 2) (6,)\n",
            "for eta  0.0001 loss = 0.8472456670775338\n",
            "(5, 2) (6,)\n",
            "for eta  1e-05 loss = 0.8472284171489317\n",
            "Second Function:\n",
            "(10, 2) (11,)\n",
            "for eta = 0.1 loss = 0.31651448769639234\n",
            "(10, 2) (11,)\n",
            "for eta = 0.01 loss = 0.2937019206250898\n",
            "(10, 2) (11,)\n",
            "for eta = 0.001 loss = 0.29162865422167233\n",
            "(10, 2) (11,)\n",
            "for eta = 0.0001 loss = 0.2914232342534875\n",
            "(10, 2) (11,)\n",
            "for eta = 1e-05 loss = 0.2914027111641106\n",
            "Third Function:\n",
            "(20, 2) (21,)\n",
            "for eta = 0.1 loss = 25466.109949884973\n",
            "(20, 2) (21,)\n",
            "for eta = 0.01 loss = 6268.737624333295\n",
            "(20, 2) (21,)\n",
            "for eta = 0.001 loss = 6757.0516397574265\n",
            "(20, 2) (21,)\n",
            "for eta = 0.0001 loss = 6387.384474941457\n",
            "(20, 2) (21,)\n",
            "for eta = 1e-05 loss = 6353.911521480823\n"
          ]
        }
      ],
      "source": [
        "# optimize the learning rate for function 1\n",
        "print('First Function:')\n",
        "for k in range(5):\n",
        "  eta = 0.1 / numpy.power(10,k)\n",
        "  fun1_W1, fun1_w2 = gradient_descent(X1, Theta1, eta)\n",
        "  loss1 = 0\n",
        "  for i in range(N1):\n",
        "    y = network(X1[i][0], (fun1_W1, fun1_w2))[0]\n",
        "    loss1 += 1/N1 * numpy.power((y - X1[i][1]), 2)\n",
        "  print('for eta  '+str(eta)+' loss = '+str(loss1))\n",
        "\n",
        "# optimize the learning rate for function 2\n",
        "print('Second Function:')\n",
        "for k in range(5):\n",
        "  eta = 0.1 / numpy.power(10,k)\n",
        "  fun2_W1, fun2_w2 = gradient_descent(X2, Theta2, eta)\n",
        "  loss2 = 0\n",
        "  for i in range(N2):\n",
        "    y = network(X2[i][0], (fun2_W1, fun2_w2))[0]\n",
        "    loss2 += 1/N2 * numpy.power((y - X2[i][1]), 2)\n",
        "  print('for eta = '+str(eta)+' loss = '+str(loss2))\n",
        "\n",
        "# optimize the learning rate for function 3\n",
        "print('Third Function:')\n",
        "for k in range(5):\n",
        "  eta = 0.1 / numpy.power(10,k)\n",
        "  fun3_W1, fun3_w2 = gradient_descent(X3, Theta3, eta)\n",
        "  loss3 = 0\n",
        "  for i in range(N3):\n",
        "    y = network(X3[i][0], (fun3_W1, fun3_w2))[0]\n",
        "    loss3 += 1/N3 * numpy.power((y - X3[i][1]), 2)\n",
        "  print('for eta = '+str(eta)+' loss = '+str(loss3))"
      ]
    },
    {
      "cell_type": "markdown",
      "metadata": {
        "id": "UQAQI5RCeT_w"
      },
      "source": [
        "According to the optimization above, the loss values for the three functions don't have obvious improvement when altering the learning rate $\\eta$.  \n",
        "Considering computaion efficiency, we choose $\\eta$ = 0.0001 for Function 1, $\\eta$ = 0.001 for Function 2, and $\\eta$ = 0.01 for Function 3 as the appropriate learning rates."
      ]
    },
    {
      "cell_type": "code",
      "execution_count": null,
      "metadata": {
        "id": "mWGOh_j6eT_w"
      },
      "outputs": [],
      "source": [
        "# Call gradient descent function using the datasets and initial weights that you created above\n",
        "# Choose appropriate learning rates for each function\n",
        "eta1 = 0.0001\n",
        "eta2 = 0.001\n",
        "eta3 = 0.01\n",
        "\n",
        "# Call gradient descent function for dataset X1\n",
        "Theta_star1 = gradient_descent(X1, Theta1, eta1)\n",
        "\n",
        "# Call gradient descent function for dataset X2\n",
        "Theta_star2 = gradient_descent(X2, Theta2, eta2)\n",
        "\n",
        "# Call gradient descent function for dataset X3\n",
        "Theta_star3 = gradient_descent(X3, Theta3, eta3)"
      ]
    },
    {
      "cell_type": "markdown",
      "metadata": {
        "id": "KJWFhIureT_w"
      },
      "source": [
        "## Data and Function Plotting\n",
        "\n",
        "### Task 8\n",
        "\n",
        "Implement a plotting function that takes a given dataset $X$, given parameters $\\Theta$ and a defined range $R=[min,max]$. Each data sample $(x^{[n]},t^{[n]})$ of the dataset is plotted as an $''x''$. In order to plot the function that is approximated by the network, generate sufficient equally-spaced input values $x\\in R$, compute the network output $y$ for these inputs, and plot them with a line.\n",
        "\n",
        "Note:\n",
        "\n",
        "  1. The dataset $X$ is defined as above, a list of tuples $(\\vec x, t)$.\n",
        "  2. Each input in the dataset is defined as $\\vec x = (1,x)^T$.\n",
        "  3. Equidistant points can be obtained via `numpy.arange`."
      ]
    },
    {
      "cell_type": "code",
      "execution_count": null,
      "metadata": {
        "id": "N9X9pZd-eT_w"
      },
      "outputs": [],
      "source": [
        "from matplotlib import pyplot\n",
        "def plot(X, Theta, R):\n",
        "  W1, w2 = Theta\n",
        "  # first, plot data samples\n",
        "  x_data = [sample[0][1] for sample in X]\n",
        "  t_data = [sample[1] for sample in X]\n",
        "\n",
        "  pyplot.plot(x_data, t_data, \"rx\", label=\"Data\")\n",
        "\n",
        "  # define equidistant points from min (R[0]) to max (R[1]) to evaluate the network\n",
        "  x_range = numpy.arange(R[0], R[1], 0.01)\n",
        "  x = numpy.array([[1, x_val] for x_val in x_range])\n",
        "\n",
        "  # compute the network outputs for these values\n",
        "  y = [network(x_input, Theta)[0] for x_input in x]\n",
        "\n",
        "  # plot network approximation\n",
        "  pyplot.plot(x_range, y, \"k-\", label=\"network\")\n",
        "\n",
        "  pyplot.legend()"
      ]
    },
    {
      "cell_type": "markdown",
      "metadata": {
        "id": "hVj0GVUeeT_w"
      },
      "source": [
        "### Task 9\n",
        "\n",
        "For each of the datasets and their according optimized parameters, call the plotting function from Task 8. Use range $R=[-1.5,1.5]$ for dataset $X_1$ and $X_2$, and range $R=[-5,4]$ for dataset $X_3$. Note that the first element of range $R$ should be the lowest $x$-location, and the second element of $R$ the highest value for $x$. Did the networks approximate the functions? What can we do if not?"
      ]
    },
    {
      "cell_type": "code",
      "execution_count": null,
      "metadata": {
        "colab": {
          "base_uri": "https://localhost:8080/",
          "height": 306
        },
        "id": "9fqZyySreT_w",
        "outputId": "214edf43-1884-481d-d232-2ce8aa15dcaa"
      },
      "outputs": [
        {
          "data": {
            "image/png": "[encoded data removed]",
            "text/plain": [
              "<Figure size 1000x300 with 3 Axes>"
            ]
          },
          "metadata": {},
          "output_type": "display_data"
        }
      ],
      "source": [
        "figure = pyplot.figure(figsize=(10,3))\n",
        "\n",
        "R1 = [-1.5, 1.5]\n",
        "R2 = [-1.5, 1.5]\n",
        "R3 = [-5, 4]\n",
        "\n",
        "# plot first function\n",
        "pyplot.subplot(131)\n",
        "plot(X1, Theta_star1, R1)\n",
        "\n",
        "# plot second function\n",
        "pyplot.subplot(132)\n",
        "plot(X2, Theta_star2, R2)\n",
        "\n",
        "# plot third function\n",
        "pyplot.subplot(133)\n",
        "plot(X3, Theta_star3, R3)\n",
        "\n",
        "pyplot.tight_layout()\n",
        "pyplot.show()\n"
      ]
    },
    {
      "cell_type": "markdown",
      "metadata": {
        "id": "tOQnpNg8Qmpo"
      },
      "source": [
        "Actually, the networks didn't approximate Function 1 and Function 3 well. We might need to consider adjusting the network architecture, exploring different activation functions, or increasing the training duration to make the network more suitable for these two functions."
      ]
    }
  ],
  "metadata": {
    "colab": {
      "gpuType": "T4",
      "provenance": []
    },
    "interpreter": {
      "hash": "2dd53f8ad749bca69f7250ce75eb4f0def59db5cf79075a9716322ffc58e8a2e"
    },
    "kernelspec": {
      "display_name": "Python 3",
      "name": "python3"
    },
    "language_info": {
      "name": "python",
      "version": "3.8.13"
    },
    "orig_nbformat": 4
  },
  "nbformat": 4,
  "nbformat_minor": 0
}
